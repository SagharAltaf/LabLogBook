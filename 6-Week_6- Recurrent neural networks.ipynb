{
  "cells": [
    {
      "cell_type": "markdown",
      "metadata": {
        "id": "eAXZw-BOklA-"
      },
      "source": [
        "\n",
        "\n",
        "# RNN for Time Series\n",
        "\n",
        "RNNs are used for sequence modeling. This tutorial will look at a time series data to be modeled and predicted using RNNs."
      ]
    },
    {
      "cell_type": "code",
      "execution_count": null,
      "metadata": {
        "id": "WO9ntPgRklBA"
      },
      "outputs": [],
      "source": [
        "#\n",
        "# Import Libraries\n",
        "import numpy as np\n",
        "import pandas as pd\n",
        "%matplotlib  inline\n",
        "import matplotlib.pyplot as plt\n",
        "import pandas as pd\n",
        "import matplotlib.pyplot as plt"
      ]
    },
    {
      "cell_type": "code",
      "execution_count": null,
      "metadata": {
        "id": "T6HAjQBuklBA"
      },
      "outputs": [],
      "source": []
    },
    {
      "cell_type": "code",
      "execution_count": null,
      "metadata": {
        "id": "j0afncMwmJiA"
      },
      "outputs": [],
      "source": [
        "# Read data first -  Use index_col = 'DATE' and 'parse_dates = True' as a parameter.\n",
        "df = pd.read_csv('MRTSSM448USN.csv',index_col='DATE',parse_dates=True)"
      ]
    },
    {
      "cell_type": "code",
      "execution_count": null,
      "metadata": {
        "id": "PWy0RE0iklBB",
        "colab": {
          "base_uri": "https://localhost:8080/",
          "height": 238
        },
        "outputId": "fb026611-a0f9-4e7c-807c-c571ee646ba7"
      },
      "outputs": [
        {
          "output_type": "execute_result",
          "data": {
            "text/plain": [
              "            MRTSSM448USN\n",
              "DATE                    \n",
              "1992-01-01        6938.0\n",
              "1992-02-01        7524.0\n",
              "1992-03-01        8475.0\n",
              "1992-04-01        9401.0\n",
              "1992-05-01        9558.0"
            ],
            "text/html": [
              "\n",
              "  <div id=\"df-c0194a76-5886-4aa5-9575-7fff9367b450\" class=\"colab-df-container\">\n",
              "    <div>\n",
              "<style scoped>\n",
              "    .dataframe tbody tr th:only-of-type {\n",
              "        vertical-align: middle;\n",
              "    }\n",
              "\n",
              "    .dataframe tbody tr th {\n",
              "        vertical-align: top;\n",
              "    }\n",
              "\n",
              "    .dataframe thead th {\n",
              "        text-align: right;\n",
              "    }\n",
              "</style>\n",
              "<table border=\"1\" class=\"dataframe\">\n",
              "  <thead>\n",
              "    <tr style=\"text-align: right;\">\n",
              "      <th></th>\n",
              "      <th>MRTSSM448USN</th>\n",
              "    </tr>\n",
              "    <tr>\n",
              "      <th>DATE</th>\n",
              "      <th></th>\n",
              "    </tr>\n",
              "  </thead>\n",
              "  <tbody>\n",
              "    <tr>\n",
              "      <th>1992-01-01</th>\n",
              "      <td>6938.0</td>\n",
              "    </tr>\n",
              "    <tr>\n",
              "      <th>1992-02-01</th>\n",
              "      <td>7524.0</td>\n",
              "    </tr>\n",
              "    <tr>\n",
              "      <th>1992-03-01</th>\n",
              "      <td>8475.0</td>\n",
              "    </tr>\n",
              "    <tr>\n",
              "      <th>1992-04-01</th>\n",
              "      <td>9401.0</td>\n",
              "    </tr>\n",
              "    <tr>\n",
              "      <th>1992-05-01</th>\n",
              "      <td>9558.0</td>\n",
              "    </tr>\n",
              "  </tbody>\n",
              "</table>\n",
              "</div>\n",
              "    <div class=\"colab-df-buttons\">\n",
              "\n",
              "  <div class=\"colab-df-container\">\n",
              "    <button class=\"colab-df-convert\" onclick=\"convertToInteractive('df-c0194a76-5886-4aa5-9575-7fff9367b450')\"\n",
              "            title=\"Convert this dataframe to an interactive table.\"\n",
              "            style=\"display:none;\">\n",
              "\n",
              "  <svg xmlns=\"http://www.w3.org/2000/svg\" height=\"24px\" viewBox=\"0 -960 960 960\">\n",
              "    <path d=\"M120-120v-720h720v720H120Zm60-500h600v-160H180v160Zm220 220h160v-160H400v160Zm0 220h160v-160H400v160ZM180-400h160v-160H180v160Zm440 0h160v-160H620v160ZM180-180h160v-160H180v160Zm440 0h160v-160H620v160Z\"/>\n",
              "  </svg>\n",
              "    </button>\n",
              "\n",
              "  <style>\n",
              "    .colab-df-container {\n",
              "      display:flex;\n",
              "      gap: 12px;\n",
              "    }\n",
              "\n",
              "    .colab-df-convert {\n",
              "      background-color: #E8F0FE;\n",
              "      border: none;\n",
              "      border-radius: 50%;\n",
              "      cursor: pointer;\n",
              "      display: none;\n",
              "      fill: #1967D2;\n",
              "      height: 32px;\n",
              "      padding: 0 0 0 0;\n",
              "      width: 32px;\n",
              "    }\n",
              "\n",
              "    .colab-df-convert:hover {\n",
              "      background-color: #E2EBFA;\n",
              "      box-shadow: 0px 1px 2px rgba(60, 64, 67, 0.3), 0px 1px 3px 1px rgba(60, 64, 67, 0.15);\n",
              "      fill: #174EA6;\n",
              "    }\n",
              "\n",
              "    .colab-df-buttons div {\n",
              "      margin-bottom: 4px;\n",
              "    }\n",
              "\n",
              "    [theme=dark] .colab-df-convert {\n",
              "      background-color: #3B4455;\n",
              "      fill: #D2E3FC;\n",
              "    }\n",
              "\n",
              "    [theme=dark] .colab-df-convert:hover {\n",
              "      background-color: #434B5C;\n",
              "      box-shadow: 0px 1px 3px 1px rgba(0, 0, 0, 0.15);\n",
              "      filter: drop-shadow(0px 1px 2px rgba(0, 0, 0, 0.3));\n",
              "      fill: #FFFFFF;\n",
              "    }\n",
              "  </style>\n",
              "\n",
              "    <script>\n",
              "      const buttonEl =\n",
              "        document.querySelector('#df-c0194a76-5886-4aa5-9575-7fff9367b450 button.colab-df-convert');\n",
              "      buttonEl.style.display =\n",
              "        google.colab.kernel.accessAllowed ? 'block' : 'none';\n",
              "\n",
              "      async function convertToInteractive(key) {\n",
              "        const element = document.querySelector('#df-c0194a76-5886-4aa5-9575-7fff9367b450');\n",
              "        const dataTable =\n",
              "          await google.colab.kernel.invokeFunction('convertToInteractive',\n",
              "                                                    [key], {});\n",
              "        if (!dataTable) return;\n",
              "\n",
              "        const docLinkHtml = 'Like what you see? Visit the ' +\n",
              "          '<a target=\"_blank\" href=https://colab.research.google.com/notebooks/data_table.ipynb>data table notebook</a>'\n",
              "          + ' to learn more about interactive tables.';\n",
              "        element.innerHTML = '';\n",
              "        dataTable['output_type'] = 'display_data';\n",
              "        await google.colab.output.renderOutput(dataTable, element);\n",
              "        const docLink = document.createElement('div');\n",
              "        docLink.innerHTML = docLinkHtml;\n",
              "        element.appendChild(docLink);\n",
              "      }\n",
              "    </script>\n",
              "  </div>\n",
              "\n",
              "\n",
              "<div id=\"df-804d1955-447c-48f3-b017-f8e16ccb79fa\">\n",
              "  <button class=\"colab-df-quickchart\" onclick=\"quickchart('df-804d1955-447c-48f3-b017-f8e16ccb79fa')\"\n",
              "            title=\"Suggest charts\"\n",
              "            style=\"display:none;\">\n",
              "\n",
              "<svg xmlns=\"http://www.w3.org/2000/svg\" height=\"24px\"viewBox=\"0 0 24 24\"\n",
              "     width=\"24px\">\n",
              "    <g>\n",
              "        <path d=\"M19 3H5c-1.1 0-2 .9-2 2v14c0 1.1.9 2 2 2h14c1.1 0 2-.9 2-2V5c0-1.1-.9-2-2-2zM9 17H7v-7h2v7zm4 0h-2V7h2v10zm4 0h-2v-4h2v4z\"/>\n",
              "    </g>\n",
              "</svg>\n",
              "  </button>\n",
              "\n",
              "<style>\n",
              "  .colab-df-quickchart {\n",
              "      --bg-color: #E8F0FE;\n",
              "      --fill-color: #1967D2;\n",
              "      --hover-bg-color: #E2EBFA;\n",
              "      --hover-fill-color: #174EA6;\n",
              "      --disabled-fill-color: #AAA;\n",
              "      --disabled-bg-color: #DDD;\n",
              "  }\n",
              "\n",
              "  [theme=dark] .colab-df-quickchart {\n",
              "      --bg-color: #3B4455;\n",
              "      --fill-color: #D2E3FC;\n",
              "      --hover-bg-color: #434B5C;\n",
              "      --hover-fill-color: #FFFFFF;\n",
              "      --disabled-bg-color: #3B4455;\n",
              "      --disabled-fill-color: #666;\n",
              "  }\n",
              "\n",
              "  .colab-df-quickchart {\n",
              "    background-color: var(--bg-color);\n",
              "    border: none;\n",
              "    border-radius: 50%;\n",
              "    cursor: pointer;\n",
              "    display: none;\n",
              "    fill: var(--fill-color);\n",
              "    height: 32px;\n",
              "    padding: 0;\n",
              "    width: 32px;\n",
              "  }\n",
              "\n",
              "  .colab-df-quickchart:hover {\n",
              "    background-color: var(--hover-bg-color);\n",
              "    box-shadow: 0 1px 2px rgba(60, 64, 67, 0.3), 0 1px 3px 1px rgba(60, 64, 67, 0.15);\n",
              "    fill: var(--button-hover-fill-color);\n",
              "  }\n",
              "\n",
              "  .colab-df-quickchart-complete:disabled,\n",
              "  .colab-df-quickchart-complete:disabled:hover {\n",
              "    background-color: var(--disabled-bg-color);\n",
              "    fill: var(--disabled-fill-color);\n",
              "    box-shadow: none;\n",
              "  }\n",
              "\n",
              "  .colab-df-spinner {\n",
              "    border: 2px solid var(--fill-color);\n",
              "    border-color: transparent;\n",
              "    border-bottom-color: var(--fill-color);\n",
              "    animation:\n",
              "      spin 1s steps(1) infinite;\n",
              "  }\n",
              "\n",
              "  @keyframes spin {\n",
              "    0% {\n",
              "      border-color: transparent;\n",
              "      border-bottom-color: var(--fill-color);\n",
              "      border-left-color: var(--fill-color);\n",
              "    }\n",
              "    20% {\n",
              "      border-color: transparent;\n",
              "      border-left-color: var(--fill-color);\n",
              "      border-top-color: var(--fill-color);\n",
              "    }\n",
              "    30% {\n",
              "      border-color: transparent;\n",
              "      border-left-color: var(--fill-color);\n",
              "      border-top-color: var(--fill-color);\n",
              "      border-right-color: var(--fill-color);\n",
              "    }\n",
              "    40% {\n",
              "      border-color: transparent;\n",
              "      border-right-color: var(--fill-color);\n",
              "      border-top-color: var(--fill-color);\n",
              "    }\n",
              "    60% {\n",
              "      border-color: transparent;\n",
              "      border-right-color: var(--fill-color);\n",
              "    }\n",
              "    80% {\n",
              "      border-color: transparent;\n",
              "      border-right-color: var(--fill-color);\n",
              "      border-bottom-color: var(--fill-color);\n",
              "    }\n",
              "    90% {\n",
              "      border-color: transparent;\n",
              "      border-bottom-color: var(--fill-color);\n",
              "    }\n",
              "  }\n",
              "</style>\n",
              "\n",
              "  <script>\n",
              "    async function quickchart(key) {\n",
              "      const quickchartButtonEl =\n",
              "        document.querySelector('#' + key + ' button');\n",
              "      quickchartButtonEl.disabled = true;  // To prevent multiple clicks.\n",
              "      quickchartButtonEl.classList.add('colab-df-spinner');\n",
              "      try {\n",
              "        const charts = await google.colab.kernel.invokeFunction(\n",
              "            'suggestCharts', [key], {});\n",
              "      } catch (error) {\n",
              "        console.error('Error during call to suggestCharts:', error);\n",
              "      }\n",
              "      quickchartButtonEl.classList.remove('colab-df-spinner');\n",
              "      quickchartButtonEl.classList.add('colab-df-quickchart-complete');\n",
              "    }\n",
              "    (() => {\n",
              "      let quickchartButtonEl =\n",
              "        document.querySelector('#df-804d1955-447c-48f3-b017-f8e16ccb79fa button');\n",
              "      quickchartButtonEl.style.display =\n",
              "        google.colab.kernel.accessAllowed ? 'block' : 'none';\n",
              "    })();\n",
              "  </script>\n",
              "</div>\n",
              "    </div>\n",
              "  </div>\n"
            ],
            "application/vnd.google.colaboratory.intrinsic+json": {
              "type": "dataframe",
              "variable_name": "df",
              "summary": "{\n  \"name\": \"df\",\n  \"rows\": 384,\n  \"fields\": [\n    {\n      \"column\": \"DATE\",\n      \"properties\": {\n        \"dtype\": \"date\",\n        \"min\": \"1992-01-01 00:00:00\",\n        \"max\": \"2023-12-01 00:00:00\",\n        \"num_unique_values\": 384,\n        \"samples\": [\n          \"2014-05-01 00:00:00\",\n          \"2012-11-01 00:00:00\",\n          \"2021-08-01 00:00:00\"\n        ],\n        \"semantic_type\": \"\",\n        \"description\": \"\"\n      }\n    },\n    {\n      \"column\": \"MRTSSM448USN\",\n      \"properties\": {\n        \"dtype\": \"number\",\n        \"std\": 6085.943997094807,\n        \"min\": 2752.0,\n        \"max\": 41228.0,\n        \"num_unique_values\": 379,\n        \"samples\": [\n          20210.0,\n          33473.0,\n          19550.0\n        ],\n        \"semantic_type\": \"\",\n        \"description\": \"\"\n      }\n    }\n  ]\n}"
            }
          },
          "metadata": {},
          "execution_count": 45
        }
      ],
      "source": [
        "# Print first few rows of data\n",
        "df.head()"
      ]
    },
    {
      "cell_type": "markdown",
      "metadata": {
        "id": "20ILbN0TmrOJ"
      },
      "source": [
        "Does the sales column has any name?\n",
        "\n",
        "If no, set the name of the colum as 'Sales'."
      ]
    },
    {
      "cell_type": "code",
      "execution_count": null,
      "metadata": {
        "colab": {
          "base_uri": "https://localhost:8080/"
        },
        "id": "AqET6vCCqfjY",
        "outputId": "8b932369-c49b-4cae-9df4-44088f5b4cd7"
      },
      "outputs": [
        {
          "output_type": "execute_result",
          "data": {
            "text/plain": [
              "Index(['Sales'], dtype='object')"
            ]
          },
          "metadata": {},
          "execution_count": 69
        }
      ],
      "source": [
        "df.columns=['Sales']"
      ]
    },
    {
      "cell_type": "code",
      "execution_count": null,
      "metadata": {
        "id": "PZIxSODNklBC"
      },
      "outputs": [],
      "source": []
    },
    {
      "cell_type": "markdown",
      "metadata": {
        "id": "mcaD8pEsssHE"
      },
      "source": [
        "Plot your data - Year vs Sales"
      ]
    },
    {
      "cell_type": "code",
      "execution_count": null,
      "metadata": {
        "id": "E_SQ6sB0klBC",
        "colab": {
          "base_uri": "https://localhost:8080/",
          "height": 713
        },
        "outputId": "d0e62333-1571-4267-f702-10666fd33103"
      },
      "outputs": [
        {
          "output_type": "execute_result",
          "data": {
            "text/plain": [
              "<Axes: xlabel='DATE'>"
            ]
          },
          "metadata": {},
          "execution_count": 47
        },
        {
          "output_type": "display_data",
          "data": {
            "text/plain": [
              "<Figure size 1200x800 with 1 Axes>"
            ],
            "image/png": "[encoded data removed]"
          },
          "metadata": {}
        }
      ],
      "source": [
        "# Your code to plot Year vs Sales. Use either matplot library of pandas dataframe.\n",
        "\n",
        "df.plot(figsize=(12,8))"
      ]
    },
    {
      "cell_type": "markdown",
      "metadata": {
        "id": "TYHObQ6lklBC"
      },
      "source": [
        "## Next we will do Train Test Split.\n",
        "\n",
        "We will use last 1.5 year (18 month) samples for testing. Rest is for training."
      ]
    },
    {
      "cell_type": "code",
      "execution_count": null,
      "metadata": {
        "id": "AJO5tcqaqfjZ"
      },
      "outputs": [],
      "source": [
        "# Assign variable test size = 18\n",
        "\n",
        "test_size =  18"
      ]
    },
    {
      "cell_type": "code",
      "execution_count": null,
      "metadata": {
        "colab": {
          "base_uri": "https://localhost:8080/"
        },
        "id": "SylDnQ11qfjZ",
        "outputId": "8fae21ce-5966-40cc-f757-30dbd6f8d067"
      },
      "outputs": [
        {
          "output_type": "execute_result",
          "data": {
            "text/plain": [
              "384"
            ]
          },
          "metadata": {},
          "execution_count": 49
        }
      ],
      "source": [
        "# Store length of data in variable length.\n",
        "data_length=len(df)\n",
        "data_length"
      ]
    },
    {
      "cell_type": "code",
      "execution_count": null,
      "metadata": {
        "colab": {
          "base_uri": "https://localhost:8080/"
        },
        "id": "0rOg7PlXqfjZ",
        "outputId": "e3425500-c4c8-48f9-8158-4694d8835d7a"
      },
      "outputs": [
        {
          "output_type": "execute_result",
          "data": {
            "text/plain": [
              "366"
            ]
          },
          "metadata": {},
          "execution_count": 50
        }
      ],
      "source": [
        "len(df)-18"
      ]
    },
    {
      "cell_type": "code",
      "execution_count": null,
      "metadata": {
        "colab": {
          "base_uri": "https://localhost:8080/"
        },
        "id": "Q-M7fhwrqfja",
        "outputId": "a81e0624-ce5a-444c-c7e4-9b8b31b7fac0"
      },
      "outputs": [
        {
          "output_type": "execute_result",
          "data": {
            "text/plain": [
              "366"
            ]
          },
          "metadata": {},
          "execution_count": 51
        }
      ],
      "source": [
        "# store training size in variable train_size\n",
        "#(Remember training size = total size  - test_size)\n",
        "\n",
        "train_size = data_length - test_size\n",
        "train_size"
      ]
    },
    {
      "cell_type": "code",
      "execution_count": null,
      "metadata": {
        "id": "oUyovl8Yqfja"
      },
      "outputs": [],
      "source": [
        "#Assign the start of test index in data frame to variable test_index.  Remember, it is equal to the length of dataframe - test size\n",
        "\n",
        "test_index = train_size"
      ]
    },
    {
      "cell_type": "code",
      "execution_count": null,
      "metadata": {
        "id": "65LOJgAGqfja"
      },
      "outputs": [],
      "source": [
        "# Store all data from 0 to test_index in variable train. Hint - Use df.iloc.\n",
        "\n",
        "train = df.iloc[:test_index]\n",
        "test = df.iloc[test_index:]\n"
      ]
    },
    {
      "cell_type": "code",
      "execution_count": null,
      "metadata": {
        "colab": {
          "base_uri": "https://localhost:8080/"
        },
        "id": "sUZVRHsXqfjb",
        "outputId": "ddf552ad-8271-48b5-957b-e73898083bd8"
      },
      "outputs": [
        {
          "output_type": "stream",
          "name": "stdout",
          "text": [
            "366\n",
            "18\n",
            "366\n"
          ]
        }
      ],
      "source": [
        "# Print the size of the train data\n",
        "print(train_size)\n",
        "\n",
        "# Print the size of the test data\n",
        "print(test_size)\n",
        "# Print the train data\n",
        "# print(train)\n",
        "# Print the test data\n",
        "print(len(train))"
      ]
    },
    {
      "cell_type": "code",
      "execution_count": null,
      "metadata": {
        "id": "7Msq-DaEqfjb"
      },
      "outputs": [],
      "source": [
        "from sklearn.preprocessing import MinMaxScaler"
      ]
    },
    {
      "cell_type": "code",
      "execution_count": null,
      "metadata": {
        "id": "8IHq5Ul0qfjb"
      },
      "outputs": [],
      "source": [
        "scaler = MinMaxScaler()\n",
        "scaler.fit(train)\n",
        "scaled_train = scaler.transform(train)\n",
        "scaled_test = scaler.transform(test)\n",
        "\n",
        "\n",
        "\n"
      ]
    },
    {
      "cell_type": "code",
      "execution_count": null,
      "metadata": {
        "id": "S4JhiyWlqfjb"
      },
      "outputs": [],
      "source": [
        "scaled_train = scaler.transform(train)\n"
      ]
    },
    {
      "cell_type": "markdown",
      "metadata": {
        "id": "AlCkBwGOvV5z"
      },
      "source": [
        "Now, we will find the indexes of the test data. Remember, these are the last 18 indexes in the pandas dataframe."
      ]
    },
    {
      "cell_type": "markdown",
      "metadata": {
        "id": "Zzf2MiW0wcIP"
      },
      "source": [
        "Next, we will separate train and test datasets."
      ]
    },
    {
      "cell_type": "markdown",
      "metadata": {
        "id": "YnHYQqjTklBE"
      },
      "source": [
        "## In Neural Networks, we need to Scale Data between 0-1"
      ]
    },
    {
      "cell_type": "markdown",
      "metadata": {
        "id": "TzvXEF_8klBE"
      },
      "source": [
        "# Time Series Generator\n",
        "\n",
        "This class takes in a sequence of data-points gathered at\n",
        "equal intervals, along with time series parameters such as\n",
        "stride, length of history, etc., to produce batches for\n",
        "training/validation.\n",
        "\n",
        "#### Arguments\n",
        "    data: Indexable generator (such as list or Numpy array)\n",
        "        containing consecutive data points (timesteps).\n",
        "        The data should be at 2D, and axis 0 is expected\n",
        "        to be the time dimension.\n",
        "    targets: Targets corresponding to timesteps in `data`.\n",
        "        It should have same length as `data`.\n",
        "    length: Length of the output sequences (in number of timesteps).\n",
        "    sampling_rate: Period between successive individual timesteps\n",
        "        within sequences. For rate `r`, timesteps\n",
        "        `data[i]`, `data[i-r]`, ... `data[i - length]`\n",
        "        are used for create a sample sequence.\n",
        "    stride: Period between successive output sequences.\n",
        "        For stride `s`, consecutive output samples would\n",
        "        be centered around `data[i]`, `data[i+s]`, `data[i+2*s]`, etc.\n",
        "    start_index: Data points earlier than `start_index` will not be used\n",
        "        in the output sequences. This is useful to reserve part of the\n",
        "        data for test or validation.\n",
        "    end_index: Data points later than `end_index` will not be used\n",
        "        in the output sequences. This is useful to reserve part of the\n",
        "        data for test or validation.\n",
        "    shuffle: Whether to shuffle output samples,\n",
        "        or instead draw them in chronological order.\n",
        "    reverse: Boolean: if `true`, timesteps in each output sample will be\n",
        "        in reverse chronological order.\n",
        "    batch_size: Number of timeseries samples in each batch\n",
        "        (except maybe the last one)."
      ]
    },
    {
      "cell_type": "markdown",
      "metadata": {
        "id": "7Ww3rFMDyeU6"
      },
      "source": [
        "# We will use 12 months as input and then predict the next month out\n"
      ]
    },
    {
      "cell_type": "code",
      "execution_count": null,
      "metadata": {
        "id": "YWGudaCKklBF"
      },
      "outputs": [],
      "source": [
        "from tensorflow.keras.preprocessing.sequence import TimeseriesGenerator\n",
        "length = 12\n",
        "generator = TimeseriesGenerator(scaled_train, scaled_train, length=length, batch_size=1)\n",
        "validator_generator = TimeseriesGenerator(scaled_test, scaled_test, length=length, batch_size=1)"
      ]
    },
    {
      "cell_type": "code",
      "execution_count": null,
      "metadata": {
        "id": "IFkYAa_ZklBF",
        "colab": {
          "base_uri": "https://localhost:8080/"
        },
        "outputId": "9221ac4f-8cf1-4c62-9ef5-f9362619a295"
      },
      "outputs": [
        {
          "output_type": "stream",
          "name": "stdout",
          "text": [
            "Given the Array: \n",
            "[0.11688819 0.13325142 0.15980677 0.18566402 0.19004803 0.17954875\n",
            " 0.17734279 0.21671507 0.19046688 0.20948285 0.23553557 0.43680889]\n",
            "Predict this y: \n",
            " [[0.1326371]]\n"
          ]
        }
      ],
      "source": [
        "X, y = generator[0]\n",
        "\n",
        "print(f'Given the Array: \\n{X.flatten()}')\n",
        "print(f'Predict this y: \\n {y}')"
      ]
    },
    {
      "cell_type": "markdown",
      "metadata": {
        "id": "i2JNn76vklBF"
      },
      "source": [
        "### Create the Model"
      ]
    },
    {
      "cell_type": "code",
      "execution_count": null,
      "metadata": {
        "id": "B8EKHpwsklBF"
      },
      "outputs": [],
      "source": [
        "from tensorflow.keras.models import Sequential\n",
        "from tensorflow.keras.layers import Dense\n",
        "from tensorflow.keras.layers import LSTM\n",
        "from tensorflow.keras.layers import SimpleRNN\n",
        "import tensorflow as tf"
      ]
    },
    {
      "cell_type": "code",
      "execution_count": null,
      "metadata": {
        "id": "4_e-ciXHklBF"
      },
      "outputs": [],
      "source": [
        "# We're only using one feature in our time series\n",
        "n_features = 1"
      ]
    },
    {
      "cell_type": "markdown",
      "metadata": {
        "id": "ZlstmafY1SJC"
      },
      "source": [
        "# Define your own models.\n",
        "\n",
        "Use 1. SimpleRNN, LSTM, or GRU neural network.\n",
        "\n",
        "APIs:\n",
        "https://keras.io/api/layers/recurrent_layers/"
      ]
    },
    {
      "cell_type": "code",
      "execution_count": null,
      "metadata": {
        "id": "97CMSHdnklBF",
        "colab": {
          "base_uri": "https://localhost:8080/"
        },
        "outputId": "ea0d0969-eaeb-4207-9f47-df63dfd79893"
      },
      "outputs": [
        {
          "output_type": "stream",
          "name": "stdout",
          "text": [
            "Model: \"sequential_5\"\n",
            "_________________________________________________________________\n",
            " Layer (type)                Output Shape              Param #   \n",
            "=================================================================\n",
            " dense_15 (Dense)            (None, 12, 64)            128       \n",
            "                                                                 \n",
            " dense_16 (Dense)            (None, 12, 32)            2080      \n",
            "                                                                 \n",
            " dense_17 (Dense)            (None, 12, 1)             33        \n",
            "                                                                 \n",
            "=================================================================\n",
            "Total params: 2241 (8.75 KB)\n",
            "Trainable params: 2241 (8.75 KB)\n",
            "Non-trainable params: 0 (0.00 Byte)\n",
            "_________________________________________________________________\n"
          ]
        }
      ],
      "source": [
        "#\n",
        "# Your code to create your own model\n",
        "\n",
        "#\n",
        "\n",
        "\n",
        "import numpy as np\n",
        "import tensorflow as tf\n",
        "from tensorflow.keras.models import Sequential\n",
        "from tensorflow.keras.layers import Dense\n",
        "\n",
        "# Define the number of features\n",
        "n_features = 1\n",
        "\n",
        "# Define your TensorFlow model\n",
        "model = Sequential([\n",
        "    Dense(64, activation='relu', input_shape=(length, n_features)),\n",
        "    Dense(32, activation='relu'),\n",
        "    Dense(1, activation='sigmoid')  # Output layer with 1 unit for regression\n",
        "])\n",
        "\n",
        "# Compile the model\n",
        "model.compile(optimizer='adam', loss='mse', metrics=['accuracy'])\n",
        "\n",
        "# Print model summary\n",
        "model.summary()\n",
        "\n"
      ]
    },
    {
      "cell_type": "markdown",
      "metadata": {
        "id": "FEySSjnXklBF"
      },
      "source": [
        "### EarlyStopping and creating a Validation Generator\n",
        "\n",
        "NOTE: The scaled_test dataset size MUST be greater than your length chosen for your batches. Review video for more info on this."
      ]
    },
    {
      "cell_type": "code",
      "execution_count": null,
      "metadata": {
        "id": "ZSOF0UdQklBG"
      },
      "outputs": [],
      "source": [
        "validation_generator = TimeseriesGenerator(scaled_train, scaled_train, length=length, batch_size=1)"
      ]
    },
    {
      "cell_type": "code",
      "source": [
        "from tensorflow.keras.callbacks import EarlyStopping\n",
        "\n",
        "# Your code to create an object early-stop.\n",
        "early_stopping = EarlyStopping(monitor='val_loss', patience=3, verbose=1, restore_best_weights=True)"
      ],
      "metadata": {
        "id": "DBemLokgs7QF"
      },
      "execution_count": null,
      "outputs": []
    },
    {
      "cell_type": "markdown",
      "metadata": {
        "id": "XGQ6FmGA2k3l"
      },
      "source": [
        "Now, fit your model."
      ]
    },
    {
      "cell_type": "code",
      "execution_count": null,
      "metadata": {
        "id": "y3M9SdOWklBG",
        "colab": {
          "base_uri": "https://localhost:8080/"
        },
        "outputId": "34eb5886-0ac3-4a32-bd59-e482d9ba1f20"
      },
      "outputs": [
        {
          "output_type": "stream",
          "name": "stdout",
          "text": [
            "Epoch 1/50\n",
            "354/354 [==============================] - 2s 4ms/step - loss: 0.0191 - accuracy: 0.0028 - val_loss: 0.0687 - val_accuracy: 0.0000e+00\n",
            "Epoch 2/50\n",
            "354/354 [==============================] - 1s 3ms/step - loss: 0.0190 - accuracy: 0.0038 - val_loss: 0.0645 - val_accuracy: 0.0000e+00\n",
            "Epoch 3/50\n",
            "354/354 [==============================] - 1s 3ms/step - loss: 0.0189 - accuracy: 0.0042 - val_loss: 0.0668 - val_accuracy: 0.0000e+00\n",
            "Epoch 4/50\n",
            "354/354 [==============================] - 1s 4ms/step - loss: 0.0188 - accuracy: 0.0031 - val_loss: 0.0676 - val_accuracy: 0.0000e+00\n",
            "Epoch 5/50\n",
            "354/354 [==============================] - 1s 3ms/step - loss: 0.0183 - accuracy: 0.0040 - val_loss: 0.0642 - val_accuracy: 0.0000e+00\n",
            "Epoch 6/50\n",
            "354/354 [==============================] - 1s 3ms/step - loss: 0.0180 - accuracy: 0.0042 - val_loss: 0.0642 - val_accuracy: 0.0000e+00\n",
            "Epoch 7/50\n",
            "354/354 [==============================] - 1s 3ms/step - loss: 0.0179 - accuracy: 0.0024 - val_loss: 0.0723 - val_accuracy: 0.0000e+00\n",
            "Epoch 8/50\n",
            "354/354 [==============================] - 1s 4ms/step - loss: 0.0173 - accuracy: 0.0047 - val_loss: 0.0631 - val_accuracy: 0.0000e+00\n",
            "Epoch 9/50\n",
            "354/354 [==============================] - 1s 3ms/step - loss: 0.0172 - accuracy: 0.0040 - val_loss: 0.0736 - val_accuracy: 0.0000e+00\n",
            "Epoch 10/50\n",
            "354/354 [==============================] - 1s 4ms/step - loss: 0.0168 - accuracy: 0.0031 - val_loss: 0.0769 - val_accuracy: 0.0000e+00\n",
            "Epoch 11/50\n",
            "342/354 [===========================>..] - ETA: 0s - loss: 0.0170 - accuracy: 0.0027    Restoring model weights from the end of the best epoch: 8.\n",
            "354/354 [==============================] - 1s 4ms/step - loss: 0.0173 - accuracy: 0.0026 - val_loss: 0.0793 - val_accuracy: 0.0000e+00\n",
            "Epoch 11: early stopping\n"
          ]
        }
      ],
      "source": [
        "# Fit the model\n",
        "history = model.fit(generator, epochs=50, batch_size=32, validation_data=(validator_generator), callbacks=[early_stopping])\n"
      ]
    },
    {
      "cell_type": "code",
      "execution_count": null,
      "metadata": {
        "id": "b_FT924EklBG",
        "colab": {
          "base_uri": "https://localhost:8080/",
          "height": 472
        },
        "outputId": "a7560c58-20b2-4cd4-c0a4-4c5710562489"
      },
      "outputs": [
        {
          "output_type": "display_data",
          "data": {
            "text/plain": [
              "<Figure size 640x480 with 1 Axes>"
            ],
            "image/png": "[encoded data removed]"
          },
          "metadata": {}
        }
      ],
      "source": [
        "# Get Losses from dataframe (hint - model.history.history)- See previous week tutorial.\n",
        "# Plot losses in the dataframe.\n",
        "# Extract losses from model history\n",
        "losses = pd.DataFrame(model.history.history)\n",
        "\n",
        "# Plot losses\n",
        "plt.plot(losses['val_loss'], label='Validation Loss')\n",
        "plt.plot(losses['loss'], label='Test Loss')\n",
        "plt.title('Validation and Test Loss')\n",
        "plt.xlabel('Epoch')\n",
        "plt.ylabel('Loss')\n",
        "plt.legend()\n",
        "plt.show()"
      ]
    },
    {
      "cell_type": "markdown",
      "metadata": {
        "id": "xLHR70OiklBG"
      },
      "source": [
        "## Evaluate on Test Data"
      ]
    },
    {
      "cell_type": "code",
      "execution_count": null,
      "metadata": {
        "id": "pfBvM-PDklBG"
      },
      "outputs": [],
      "source": [
        "first_eval_batch = scaled_train[-length:]"
      ]
    },
    {
      "cell_type": "code",
      "execution_count": null,
      "metadata": {
        "id": "ilrLhGP5klBG"
      },
      "outputs": [],
      "source": [
        "n_input = 12\n",
        "first_eval_batch = first_eval_batch.reshape((1, n_input, n_features))\n",
        "model.predict(first_eval_batch)\n",
        "scaled_test[0]"
      ]
    },
    {
      "cell_type": "markdown",
      "metadata": {
        "id": "OKjgr2QtklBH"
      },
      "source": [
        "#### Try predicting the series!"
      ]
    },
    {
      "cell_type": "code",
      "execution_count": null,
      "metadata": {
        "id": "cem82lC7klBH"
      },
      "outputs": [],
      "source": [
        "test_predictions = []\n",
        "\n",
        "first_eval_batch = scaled_train[-length:]\n",
        "current_batch = first_eval_batch.reshape((1, length, n_features))\n",
        "\n",
        "for i in range(len(test)):\n",
        "\n",
        "    # get prediction 1 time stamp ahead ([0] is for\n",
        "    # grabbing just the number instead of [array])\n",
        "    current_pred = model.predict(current_batch)[0]\n",
        "\n",
        "    # store prediction\n",
        "    test_predictions.append(current_pred)\n",
        "\n",
        "    # update batch to now include prediction and drop first value\n",
        "    current_batch = np.append(current_batch[:,1:,:],[[current_pred]],axis=1)"
      ]
    },
    {
      "cell_type": "markdown",
      "metadata": {
        "id": "z2400W3cklBH"
      },
      "source": [
        "## Inverse Transformations and Compare"
      ]
    },
    {
      "cell_type": "code",
      "execution_count": null,
      "metadata": {
        "id": "8CTT2EJWklBH"
      },
      "outputs": [],
      "source": [
        "true_predictions = scaler.inverse_transform(test_predictions)"
      ]
    },
    {
      "cell_type": "code",
      "execution_count": null,
      "metadata": {
        "id": "mkQkA0HXklBH"
      },
      "outputs": [],
      "source": [
        "# IGNORE WARNINGS\n",
        "test['Predictions'] = true_predictions"
      ]
    },
    {
      "cell_type": "markdown",
      "metadata": {
        "id": "xbrJUx7z3hQF"
      },
      "source": [
        "# Check and plot predictions"
      ]
    },
    {
      "cell_type": "code",
      "execution_count": null,
      "metadata": {
        "id": "SovbmFX1klBH"
      },
      "outputs": [],
      "source": [
        "# Print the test variable."
      ]
    },
    {
      "cell_type": "code",
      "execution_count": null,
      "metadata": {
        "id": "GI2daeyCklBH"
      },
      "outputs": [],
      "source": [
        "# Your code to plot actual sales and predictions."
      ]
    },
    {
      "cell_type": "markdown",
      "metadata": {
        "collapsed": true,
        "id": "m-G9Sj8QklBH"
      },
      "source": [
        "# Retrain and Forecasting"
      ]
    },
    {
      "cell_type": "code",
      "execution_count": null,
      "metadata": {
        "id": "x_LWNZcsklBH"
      },
      "outputs": [],
      "source": [
        "full_scaler = MinMaxScaler()\n",
        "scaled_full_data = full_scaler.fit_transform(df)"
      ]
    },
    {
      "cell_type": "code",
      "execution_count": null,
      "metadata": {
        "id": "_Bv8HMGUklBH"
      },
      "outputs": [],
      "source": [
        "length = 12 # Length of the output sequences (in number of timesteps)\n",
        "generator = TimeseriesGenerator(scaled_full_data,\n",
        "                                scaled_full_data, length=length, batch_size=1)"
      ]
    },
    {
      "cell_type": "code",
      "execution_count": null,
      "metadata": {
        "id": "rur4U6DqklBH"
      },
      "outputs": [],
      "source": [
        "#\n",
        "# Use any neural network model based on RNN\n",
        "#"
      ]
    },
    {
      "cell_type": "code",
      "execution_count": null,
      "metadata": {
        "id": "sLRI3xk6klBH"
      },
      "outputs": [],
      "source": [
        "forecast = []\n",
        "# Replace periods with whatever forecast length you want\n",
        "periods = 12\n",
        "\n",
        "first_eval_batch = scaled_full_data[-length:]\n",
        "current_batch = first_eval_batch.reshape((1, length, n_features))\n",
        "\n",
        "for i in range(periods):\n",
        "\n",
        "    # get prediction 1 time stamp ahead ([0] is for  grabbing just the number instead of [array])\n",
        "\n",
        "\n",
        "    # store prediction forecast.append(current_pred)\n",
        "\n",
        "    # update batch to now include prediction and drop first value\n"
      ]
    },
    {
      "cell_type": "code",
      "execution_count": null,
      "metadata": {
        "id": "NrOvllWLklBI"
      },
      "outputs": [],
      "source": [
        "forecast = scaler.inverse_transform(forecast)"
      ]
    },
    {
      "cell_type": "markdown",
      "metadata": {
        "id": "SX2a204lklBI"
      },
      "source": [
        "### Creating new timestamp index with pandas."
      ]
    },
    {
      "cell_type": "code",
      "execution_count": null,
      "metadata": {
        "id": "TKFbxg4nklBI"
      },
      "outputs": [],
      "source": [
        "df"
      ]
    },
    {
      "cell_type": "code",
      "execution_count": null,
      "metadata": {
        "id": "uXqTleSCklBI"
      },
      "outputs": [],
      "source": [
        "forecast_index = pd.date_range(start='2020-02-01',periods=periods,freq='MS')"
      ]
    },
    {
      "cell_type": "code",
      "execution_count": null,
      "metadata": {
        "id": "0M8HAJ2BklBI"
      },
      "outputs": [],
      "source": [
        "forecast_df = pd.DataFrame(data=forecast,index=forecast_index,\n",
        "                           columns=['Forecast'])"
      ]
    },
    {
      "cell_type": "code",
      "execution_count": null,
      "metadata": {
        "id": "FgbJpcIAklBI"
      },
      "outputs": [],
      "source": [
        "forecast_df"
      ]
    },
    {
      "cell_type": "code",
      "execution_count": null,
      "metadata": {
        "id": "VXkkIIBjklBI"
      },
      "outputs": [],
      "source": [
        "# Plot sales - Values in dataframe"
      ]
    },
    {
      "cell_type": "code",
      "execution_count": null,
      "metadata": {
        "id": "9wVB2DQM5ovH"
      },
      "outputs": [],
      "source": [
        "# Plot forecast - Values in forecast_df"
      ]
    },
    {
      "cell_type": "markdown",
      "metadata": {
        "id": "PjgZ7bnMklBI"
      },
      "source": [
        "### Joining pandas plots\n",
        "\n",
        "https://stackoverflow.com/questions/13872533/plot-different-dataframes-in-the-same-figure"
      ]
    },
    {
      "cell_type": "code",
      "execution_count": null,
      "metadata": {
        "id": "SimiIvlQklBI"
      },
      "outputs": [],
      "source": [
        "ax = df.plot()\n",
        "forecast_df.plot(ax=ax)"
      ]
    },
    {
      "cell_type": "code",
      "execution_count": null,
      "metadata": {
        "id": "NPJKP6sMklBI"
      },
      "outputs": [],
      "source": [
        "ax = df.plot()\n",
        "forecast_df.plot(ax=ax)\n",
        "plt.xlim('2018-01-01','2021-01-01')"
      ]
    },
    {
      "cell_type": "markdown",
      "metadata": {
        "id": "6UncpiS4klBI"
      },
      "source": [
        "# Try the same example with a LSTM and GRU!\n",
        "Hint: Use LSTM instead of SimpleRNN!"
      ]
    }
  ],
  "metadata": {
    "colab": {
      "provenance": []
    },
    "kernelspec": {
      "display_name": "Python 3 (ipykernel)",
      "language": "python",
      "name": "python3"
    },
    "language_info": {
      "codemirror_mode": {
        "name": "ipython",
        "version": 3
      },
      "file_extension": ".py",
      "mimetype": "text/x-python",
      "name": "python",
      "nbconvert_exporter": "python",
      "pygments_lexer": "ipython3",
      "version": "3.11.5"
    }
  },
  "nbformat": 4,
  "nbformat_minor": 0
}