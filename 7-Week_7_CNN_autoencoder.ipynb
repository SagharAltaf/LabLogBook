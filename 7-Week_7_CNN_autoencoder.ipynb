{
  "cells": [
    {
      "cell_type": "code",
      "execution_count": 1,
      "metadata": {
        "id": "CzlOdaugnb_U"
      },
      "outputs": [],
      "source": [
        "import tensorflow as tf"
      ]
    },
    {
      "cell_type": "code",
      "execution_count": 2,
      "metadata": {
        "id": "o5WFh4uQnb_W",
        "colab": {
          "base_uri": "https://localhost:8080/"
        },
        "outputId": "4622436a-6baf-4baa-a5a6-a76980e5c880"
      },
      "outputs": [
        {
          "output_type": "stream",
          "name": "stdout",
          "text": [
            "Downloading data from https://storage.googleapis.com/tensorflow/tf-keras-datasets/mnist.npz\n",
            "11490434/11490434 [==============================] - 0s 0us/step\n"
          ]
        }
      ],
      "source": [
        "from tensorflow import keras\n",
        "from keras.layers import Input, Dense\n",
        "from keras.models import Model\n",
        "from keras.datasets import mnist\n",
        "import numpy as np\n",
        "(x_train, _), (x_test, _) = mnist.load_data()"
      ]
    },
    {
      "cell_type": "code",
      "execution_count": 3,
      "metadata": {
        "id": "tSQUNzNWnb_X",
        "colab": {
          "base_uri": "https://localhost:8080/",
          "height": 50
        },
        "outputId": "4c8bdfed-05ed-4a67-af7b-4aef0d2dffdc"
      },
      "outputs": [
        {
          "output_type": "display_data",
          "data": {
            "text/plain": [
              "<Figure size 200x200 with 10 Axes>"
            ],
            "image/png": "[encoded data removed]"
          },
          "metadata": {}
        }
      ],
      "source": [
        "import matplotlib.pyplot as plt\n",
        "%matplotlib inline\n",
        "\n",
        "n = 10  # how many records we will display\n",
        "plt.figure(figsize=(2, 2))\n",
        "for i in range(n):\n",
        "    # display original\n",
        "    ax = plt.subplot(2, n, i + 1)\n",
        "    plt.imshow(x_test[i].reshape(28, 28))\n",
        "    plt.gray()\n",
        "    ax.get_xaxis().set_visible(False)\n",
        "    ax.get_yaxis().set_visible(False)\n",
        "\n",
        "plt.show()"
      ]
    },
    {
      "cell_type": "markdown",
      "metadata": {
        "id": "opSUZNsCnb_X"
      },
      "source": [
        "![image.png](attachment:image.png)"
      ]
    },
    {
      "cell_type": "code",
      "execution_count": 4,
      "metadata": {
        "id": "b893a54bnb_Y"
      },
      "outputs": [],
      "source": [
        "from tensorflow.keras.models import Sequential, Model\n",
        "from tensorflow.keras.layers import Dense, Conv2D, MaxPool2D, Flatten, UpSampling2D, Reshape"
      ]
    },
    {
      "cell_type": "code",
      "execution_count": 5,
      "metadata": {
        "id": "invEZgj8nb_Z"
      },
      "outputs": [],
      "source": [
        "encode_model = Sequential()\n",
        "\n",
        "############\n",
        "# Encoding #\n",
        "############\n",
        "\n",
        "## FIRST SET OF LAYERS\n",
        "# CONVOLUTIONAL LAYER\n",
        "encode_model.add(Conv2D(filters=16, kernel_size=(3,3), input_shape=(28, 28, 1), activation='relu', padding='same'))\n",
        "# POOLING LAYER\n",
        "encode_model.add(MaxPool2D(pool_size=(2, 2),  padding='same'))\n",
        "\n",
        "## SECOND SET OF LAYERS\n",
        "# CONVOLUTIONAL LAYER\n",
        "encode_model.add(Conv2D(filters=8, kernel_size=(3,3), activation = 'relu', padding='same'))\n",
        "# POOLING LAYER\n",
        "encode_model.add(MaxPool2D(pool_size=(2, 2), padding='same'))\n",
        "\n",
        "## THIRD SET OF LAYERS\n",
        "# CONVOLUTIONAL LAYER\n",
        "#encode_model.add(Conv2D(filters=8, kernel_size=(3,3), activation='relu', padding='same'))\n",
        "# POOLING LAYER\n",
        "#encode_model.add(MaxPool2D(pool_size=(2, 2), padding='valid'))\n",
        "encode_model.add(Flatten(input_shape=[7,7,8]))\n",
        "encode_model.add(Dense(7*7*8, activation=\"relu\"))\n",
        "encode_model.add(Dense(30, activation=\"relu\"))"
      ]
    },
    {
      "cell_type": "code",
      "execution_count": 6,
      "metadata": {
        "id": "Fchfz3Ffnb_Z"
      },
      "outputs": [],
      "source": [
        "############\n",
        "# Decoding #\n",
        "############\n",
        "decode_model=Sequential()\n",
        "\n",
        "# DeConv1\n",
        "#decode_model.add(Conv2D(filters=8, kernel_size=(3,3), activation='relu', padding='same'))\n",
        "# Upsampling LAYER\n",
        "#decode_model.add(UpSampling2D((2, 2)))\n",
        "\n",
        "decode_model.add(Dense(7*7*8,activation=\"relu\"))\n",
        "decode_model.add(Reshape([7,7,8]))\n",
        "\n",
        "# DeConv2\n",
        "decode_model.add(Conv2D(filters=8, kernel_size=(3,3), activation='relu', padding='same'))\n",
        "# Upsampling LAYER\n",
        "decode_model.add(UpSampling2D((2, 2)))\n",
        "\n",
        "# Deconv3\n",
        "decode_model.add(Conv2D(filters=16, kernel_size=(3,3), activation='relu', padding='same'))\n",
        "# POOLING LAYER\n",
        "decode_model.add(UpSampling2D((2, 2)))\n",
        "\n",
        "decode_model.add(Conv2D(1, kernel_size=(3,3), activation='sigmoid', padding='same'))\n"
      ]
    },
    {
      "cell_type": "code",
      "execution_count": 7,
      "metadata": {
        "id": "Mw9Mcq5dnb_Z"
      },
      "outputs": [],
      "source": [
        "autoencoder = Sequential([encode_model, decode_model])"
      ]
    },
    {
      "cell_type": "code",
      "execution_count": 8,
      "metadata": {
        "id": "IvdkGvSNnb_a"
      },
      "outputs": [],
      "source": [
        "autoencoder.compile(optimizer='adam', loss='binary_crossentropy',metrics=['accuracy'])"
      ]
    },
    {
      "cell_type": "code",
      "execution_count": 9,
      "metadata": {
        "id": "WiUMMYDfnb_a",
        "colab": {
          "base_uri": "https://localhost:8080/"
        },
        "outputId": "7cc87271-9a6e-4793-a7fe-7e57b437a0c7"
      },
      "outputs": [
        {
          "output_type": "stream",
          "name": "stdout",
          "text": [
            "Model: \"sequential_2\"\n",
            "_________________________________________________________________\n",
            " Layer (type)                Output Shape              Param #   \n",
            "=================================================================\n",
            " sequential (Sequential)     (None, 30)                167166    \n",
            "                                                                 \n",
            " sequential_1 (Sequential)   (None, 28, 28, 1)         14049     \n",
            "                                                                 \n",
            "=================================================================\n",
            "Total params: 181215 (707.87 KB)\n",
            "Trainable params: 181215 (707.87 KB)\n",
            "Non-trainable params: 0 (0.00 Byte)\n",
            "_________________________________________________________________\n"
          ]
        }
      ],
      "source": [
        "autoencoder.summary()"
      ]
    },
    {
      "cell_type": "code",
      "execution_count": 10,
      "metadata": {
        "id": "FieERwXBnb_b",
        "colab": {
          "base_uri": "https://localhost:8080/"
        },
        "outputId": "eb07f685-51e8-4c2b-f613-52d0302b9974"
      },
      "outputs": [
        {
          "output_type": "stream",
          "name": "stdout",
          "text": [
            "Model: \"sequential\"\n",
            "_________________________________________________________________\n",
            " Layer (type)                Output Shape              Param #   \n",
            "=================================================================\n",
            " conv2d (Conv2D)             (None, 28, 28, 16)        160       \n",
            "                                                                 \n",
            " max_pooling2d (MaxPooling2  (None, 14, 14, 16)        0         \n",
            " D)                                                              \n",
            "                                                                 \n",
            " conv2d_1 (Conv2D)           (None, 14, 14, 8)         1160      \n",
            "                                                                 \n",
            " max_pooling2d_1 (MaxPoolin  (None, 7, 7, 8)           0         \n",
            " g2D)                                                            \n",
            "                                                                 \n",
            " flatten (Flatten)           (None, 392)               0         \n",
            "                                                                 \n",
            " dense (Dense)               (None, 392)               154056    \n",
            "                                                                 \n",
            " dense_1 (Dense)             (None, 30)                11790     \n",
            "                                                                 \n",
            "=================================================================\n",
            "Total params: 167166 (652.99 KB)\n",
            "Trainable params: 167166 (652.99 KB)\n",
            "Non-trainable params: 0 (0.00 Byte)\n",
            "_________________________________________________________________\n"
          ]
        }
      ],
      "source": [
        "encode_model.summary()"
      ]
    },
    {
      "cell_type": "code",
      "execution_count": 11,
      "metadata": {
        "id": "-uToDopqnb_b",
        "colab": {
          "base_uri": "https://localhost:8080/"
        },
        "outputId": "afdbe5fc-7763-4b74-8caf-f3dff6f6afab"
      },
      "outputs": [
        {
          "output_type": "stream",
          "name": "stdout",
          "text": [
            "Model: \"sequential_1\"\n",
            "_________________________________________________________________\n",
            " Layer (type)                Output Shape              Param #   \n",
            "=================================================================\n",
            " dense_2 (Dense)             (None, 392)               12152     \n",
            "                                                                 \n",
            " reshape (Reshape)           (None, 7, 7, 8)           0         \n",
            "                                                                 \n",
            " conv2d_2 (Conv2D)           (None, 7, 7, 8)           584       \n",
            "                                                                 \n",
            " up_sampling2d (UpSampling2  (None, 14, 14, 8)         0         \n",
            " D)                                                              \n",
            "                                                                 \n",
            " conv2d_3 (Conv2D)           (None, 14, 14, 16)        1168      \n",
            "                                                                 \n",
            " up_sampling2d_1 (UpSamplin  (None, 28, 28, 16)        0         \n",
            " g2D)                                                            \n",
            "                                                                 \n",
            " conv2d_4 (Conv2D)           (None, 28, 28, 1)         145       \n",
            "                                                                 \n",
            "=================================================================\n",
            "Total params: 14049 (54.88 KB)\n",
            "Trainable params: 14049 (54.88 KB)\n",
            "Non-trainable params: 0 (0.00 Byte)\n",
            "_________________________________________________________________\n"
          ]
        }
      ],
      "source": [
        "decode_model.summary()"
      ]
    },
    {
      "cell_type": "code",
      "execution_count": 12,
      "metadata": {
        "colab": {
          "base_uri": "https://localhost:8080/"
        },
        "id": "YLekt0eMnb_b",
        "outputId": "609b528d-b1cc-46bf-95ec-1c520c2621ba"
      },
      "outputs": [
        {
          "output_type": "execute_result",
          "data": {
            "text/plain": [
              "(60000, 28, 28, 1)"
            ]
          },
          "metadata": {},
          "execution_count": 12
        }
      ],
      "source": [
        "x_train = x_train.reshape(60000,28,28,1)\n",
        "x_train = x_train/255\n",
        "x_train.shape"
      ]
    },
    {
      "cell_type": "code",
      "execution_count": 13,
      "metadata": {
        "id": "PfSZaCCEnb_b",
        "colab": {
          "base_uri": "https://localhost:8080/"
        },
        "outputId": "9779f498-1751-46f1-8090-18afca5ad819"
      },
      "outputs": [
        {
          "output_type": "execute_result",
          "data": {
            "text/plain": [
              "(10000, 28, 28, 1)"
            ]
          },
          "metadata": {},
          "execution_count": 13
        }
      ],
      "source": [
        "x_test = x_test.reshape(10000, 28, 28, 1)\n",
        "x_test = x_test/255\n",
        "x_test.shape"
      ]
    },
    {
      "cell_type": "code",
      "execution_count": 14,
      "metadata": {
        "id": "0kDxggwUnb_b",
        "colab": {
          "base_uri": "https://localhost:8080/"
        },
        "outputId": "74384540-16ee-4382-ccae-abf2e81c2042"
      },
      "outputs": [
        {
          "output_type": "stream",
          "name": "stdout",
          "text": [
            "Epoch 1/10\n",
            "469/469 [==============================] - 81s 153ms/step - loss: 0.1923 - accuracy: 0.8036 - val_loss: 0.1181 - val_accuracy: 0.8083\n",
            "Epoch 2/10\n",
            "469/469 [==============================] - 70s 149ms/step - loss: 0.1112 - accuracy: 0.8106 - val_loss: 0.1039 - val_accuracy: 0.8107\n",
            "Epoch 3/10\n",
            "469/469 [==============================] - 67s 143ms/step - loss: 0.1023 - accuracy: 0.8120 - val_loss: 0.0978 - val_accuracy: 0.8116\n",
            "Epoch 4/10\n",
            "469/469 [==============================] - 77s 165ms/step - loss: 0.0979 - accuracy: 0.8127 - val_loss: 0.0944 - val_accuracy: 0.8121\n",
            "Epoch 5/10\n",
            "469/469 [==============================] - 68s 146ms/step - loss: 0.0949 - accuracy: 0.8131 - val_loss: 0.0923 - val_accuracy: 0.8123\n",
            "Epoch 6/10\n",
            "469/469 [==============================] - 67s 143ms/step - loss: 0.0928 - accuracy: 0.8134 - val_loss: 0.0909 - val_accuracy: 0.8128\n",
            "Epoch 7/10\n",
            "469/469 [==============================] - 68s 145ms/step - loss: 0.0914 - accuracy: 0.8135 - val_loss: 0.0902 - val_accuracy: 0.8130\n",
            "Epoch 8/10\n",
            "469/469 [==============================] - 67s 143ms/step - loss: 0.0902 - accuracy: 0.8137 - val_loss: 0.0888 - val_accuracy: 0.8130\n",
            "Epoch 9/10\n",
            "469/469 [==============================] - 65s 139ms/step - loss: 0.0892 - accuracy: 0.8138 - val_loss: 0.0883 - val_accuracy: 0.8127\n",
            "Epoch 10/10\n",
            "469/469 [==============================] - 68s 146ms/step - loss: 0.0886 - accuracy: 0.8139 - val_loss: 0.0875 - val_accuracy: 0.8127\n"
          ]
        },
        {
          "output_type": "execute_result",
          "data": {
            "text/plain": [
              "<keras.src.callbacks.History at 0x7a7b3e849bd0>"
            ]
          },
          "metadata": {},
          "execution_count": 14
        }
      ],
      "source": [
        "# Train the model\n",
        "autoencoder.fit(x=x_train, y=x_train,  epochs=10, batch_size=128, shuffle=True, verbose=1, validation_data=(x_test, x_test))"
      ]
    },
    {
      "cell_type": "code",
      "execution_count": 16,
      "metadata": {
        "id": "yBM1A98snb_b",
        "colab": {
          "base_uri": "https://localhost:8080/",
          "height": 353
        },
        "outputId": "e7aa628c-472b-487b-d4fc-537e9548eb76"
      },
      "outputs": [
        {
          "output_type": "stream",
          "name": "stdout",
          "text": [
            "313/313 [==============================] - 4s 13ms/step\n"
          ]
        },
        {
          "output_type": "display_data",
          "data": {
            "text/plain": [
              "<Figure size 2000x400 with 20 Axes>"
            ],
            "image/png": "[encoded data removed]"
          },
          "metadata": {}
        }
      ],
      "source": [
        "decoded_imgs = autoencoder.predict(x_test)\n",
        "\n",
        "n = 10\n",
        "\n",
        "plt.figure(figsize=(20, 4), facecolor='blue', edgecolor='blue')\n",
        "for i in range(n):\n",
        "    # display original\n",
        "    ax = plt.subplot(2, n, i + 1)\n",
        "    plt.imshow(x_test[i].reshape(28, 28))\n",
        "    plt.gray()\n",
        "    ax.get_xaxis().set_visible(False)\n",
        "    ax.get_yaxis().set_visible(False)\n",
        "\n",
        "    # display reconstruction\n",
        "    ax = plt.subplot(2, n, i+1+n)\n",
        "    plt.imshow(decoded_imgs[i].reshape(28, 28))\n",
        "    plt.gray()\n",
        "    ax.get_xaxis().set_visible(False)\n",
        "    ax.get_yaxis().set_visible(False)\n"
      ]
    },
    {
      "cell_type": "code",
      "execution_count": 15,
      "metadata": {
        "id": "9trOIPY6I7_A"
      },
      "outputs": [],
      "source": []
    },
    {
      "cell_type": "code",
      "execution_count": 15,
      "metadata": {
        "id": "f1MN8N3oI7_A"
      },
      "outputs": [],
      "source": []
    }
  ],
  "metadata": {
    "colab": {
      "provenance": []
    },
    "kernelspec": {
      "display_name": "Python 3 (ipykernel)",
      "language": "python",
      "name": "python3"
    },
    "language_info": {
      "codemirror_mode": {
        "name": "ipython",
        "version": 3
      },
      "file_extension": ".py",
      "mimetype": "text/x-python",
      "name": "python",
      "nbconvert_exporter": "python",
      "pygments_lexer": "ipython3",
      "version": "3.10.9"
    }
  },
  "nbformat": 4,
  "nbformat_minor": 0
}